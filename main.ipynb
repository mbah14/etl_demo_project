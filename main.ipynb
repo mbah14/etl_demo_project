{
 "cells": [
  {
   "cell_type": "code",
   "execution_count": 8,
   "metadata": {},
   "outputs": [],
   "source": [
    "from cred import *\n",
    "import sqlalchemy\n",
    "from sqlalchemy.orm import sessionmaker\n",
    "import spotipy\n",
    "from twilio.rest import Client\n",
    "from spotipy.oauth2 import SpotifyOAuth\n",
    "import pandas as pd\n",
    "from datetime import *\n",
    "import sqlite3"
   ]
  },
  {
   "attachments": {},
   "cell_type": "markdown",
   "metadata": {},
   "source": [
    "## Constant"
   ]
  },
  {
   "cell_type": "code",
   "execution_count": 2,
   "metadata": {},
   "outputs": [],
   "source": [
    "SCOPE = \"user-read-recently-played\"\n",
    "REDIRECT_URL = \"http://localhost:7777/callback\"\n",
    "DATABASE_LOCATION = \"sqlite:///my_played_tracks.sqlite\"\n",
    "client = Client(ACCOUNT_SID, AUTH_TOKEN)"
   ]
  },
  {
   "attachments": {},
   "cell_type": "markdown",
   "metadata": {},
   "source": [
    "# Helper Function"
   ]
  },
  {
   "cell_type": "code",
   "execution_count": 3,
   "metadata": {},
   "outputs": [],
   "source": [
    "def check_if_valid_data(df: pd.DataFrame) -> bool:\n",
    "    \"\"\"\n",
    "    Validate the data\n",
    "    \"\"\"\n",
    "\n",
    "    # is data empty?\n",
    "    if df.empty:\n",
    "        print(\"No songs downloaded. Finishing execution.\")\n",
    "        return False\n",
    "     # primary key constraint\n",
    "    if pd.Series(df['played_at']).is_unique:\n",
    "        pass\n",
    "    else:\n",
    "        raise Exception(\"Primary key constraint is violated!\")\n",
    "\n",
    "    # check for nulls\n",
    "    if df.isnull().values.any():\n",
    "        raise Exception(\"Missing values exist!\")\n",
    "    \n",
    "    # Check that all timestamps are of past five days\n",
    "    today = date.today()\n",
    "    last_five_days_list = [str(today - timedelta(days = day)) for day in range(5)]\n",
    "    \n",
    "\n",
    "    timestamps_list = df[\"timestamp\"].tolist()\n",
    "    if not any(item in timestamps_list for item in last_five_days_list):\n",
    "            raise Exception(\"At least one of the returned songs does not have timestamp from last five days\")\n",
    "    return True\n",
    "\n",
    "def send_msg(df) -> str:\n",
    "    if not (df['artist_name'] == \"Burna Boy\").any():\n",
    "        message = client.messages.create(\n",
    "                              body='WOW! You have not listen to Burna Boy in the last five days',\n",
    "                             from_= {FROM_NUMBER},     \n",
    "                              to={TO_NUMBER} \n",
    "                          ) \n",
    "        return str(message)"
   ]
  },
  {
   "cell_type": "code",
   "execution_count": 4,
   "metadata": {},
   "outputs": [
    {
     "name": "stdout",
     "output_type": "stream",
     "text": [
      "Data validate proceed to Load stage\n",
      "SMS sent!\n",
      "Opened database successfully\n"
     ]
    }
   ],
   "source": [
    "if __name__ == \"__main__\":\n",
    "\n",
    "    # set up connection\n",
    "    sp = (spotipy.Spotify(auth_manager=SpotifyOAuth(client_id=CLIENT_ID,\n",
    "     client_secret= CLIENT_SECRET, redirect_uri=REDIRECT_URL, scope=SCOPE)))\n",
    "\n",
    "    # I want to see what I have played in the last 5 days\n",
    "    today = datetime.now()\n",
    "    last_five_days = today - timedelta(days=5)\n",
    "    last_five_unix = int(last_five_days.timestamp()) * 1000\n",
    "\n",
    "    # Download all songs you've listened to \"after yesterday\", which means in the last 24 hours      \n",
    "    data = sp.current_user_recently_played(limit=50, after={last_five_unix})\n",
    "\n",
    "    song_names = []\n",
    "    artist_names = []\n",
    "    played_at_list = []\n",
    "    timestamps = []\n",
    "\n",
    "    # Extracting only the relevant bits of data from the json object\n",
    "    for idx, item in enumerate(data['items']):\n",
    "\n",
    "        track = item['track']\n",
    "        played_at = item['played_at']\n",
    "\n",
    "        song_names.append(track['name'])\n",
    "        artist_names.append(track['artists'][0]['name'])\n",
    "        played_at_list.append(played_at)\n",
    "        timestamps.append(played_at[0:10])\n",
    "        \n",
    "    \n",
    "\n",
    "    # Prepare a dictionary in order to turn it into a pandas dataframe below       \n",
    "    song_dict = {\n",
    "        \"song_name\" : song_names,\n",
    "        \"artist_name\": artist_names,\n",
    "        \"played_at\" : played_at_list,\n",
    "        \"timestamp\" : timestamps,\n",
    "        \"dt\": pd.to_datetime(\"today\").strftime(\"%Y-%m-%d\")\n",
    "    }    \n",
    "     \n",
    "    df = pd.DataFrame(song_dict, columns = [ \"artist_name\",\"song_name\", \"played_at\", \"timestamp\", \"dt\"])\n",
    "\n",
    "\n",
    "    # validate\n",
    "    if check_if_valid_data(df):\n",
    "        print(\"Data validate proceed to Load stage\")\n",
    "\n",
    "    # msg\n",
    "    if send_msg(df):\n",
    "        print(\"SMS sent!\")\n",
    "    else:\n",
    "        print(\"SMS not sent\")\n",
    " \n",
    "    # Load\n",
    "    engine = sqlalchemy.create_engine(DATABASE_LOCATION)\n",
    "    conn = sqlite3.connect('my_played_tracks.sqlite')\n",
    "    cursor = conn.cursor()\n",
    "\n",
    "    sql_query = \"\"\"\n",
    "    CREATE TABLE IF NOT EXISTS my_played_track(\n",
    "        song_name VARCHAR(200),\n",
    "        artist_name VARCHAR(200),\n",
    "        played_at VARCHAR(200),\n",
    "        timestamp VARCHAR(200),\n",
    "        CONSTRAINT primary_key_constraint PRIMARY KEY (played_at)\n",
    "    )\n",
    "    \"\"\"\n",
    "\n",
    "    # cursor.execute(sql_query)\n",
    "    print(\"Opened database successfully\")\n",
    "\n",
    "    try:\n",
    "        df.to_sql(\"my_tracks\", engine, index=False, if_exists='append')\n",
    "    except:\n",
    "        print(\"Data already exists in the database\")\n",
    "\n",
    "    conn.close()\n",
    "    print(\"Close database successfully\")\n",
    "    "
   ]
  }
 ],
 "metadata": {
  "kernelspec": {
   "display_name": ".venv",
   "language": "python",
   "name": "python3"
  },
  "language_info": {
   "codemirror_mode": {
    "name": "ipython",
    "version": 3
   },
   "file_extension": ".py",
   "mimetype": "text/x-python",
   "name": "python",
   "nbconvert_exporter": "python",
   "pygments_lexer": "ipython3",
   "version": "3.11.1"
  },
  "orig_nbformat": 4,
  "vscode": {
   "interpreter": {
    "hash": "72b9ae2ab66aa62d208e240159493a90e960428c6fbb8574efdfaf6708bec327"
   }
  }
 },
 "nbformat": 4,
 "nbformat_minor": 2
}
